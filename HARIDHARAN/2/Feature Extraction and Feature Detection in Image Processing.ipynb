{
 "cells": [
  {
   "cell_type": "code",
   "execution_count": null,
   "id": "f5971215",
   "metadata": {},
   "outputs": [],
   "source": [
    "import cv2 as cv\n",
    "import numpy as np"
   ]
  },
  {
   "cell_type": "raw",
   "id": "9e36e6f5",
   "metadata": {},
   "source": [
    "img=cv.imread(\"india.png\",0)"
   ]
  },
  {
   "cell_type": "markdown",
   "id": "e56b5024",
   "metadata": {},
   "source": [
    "# Canny Edge Detection"
   ]
  },
  {
   "cell_type": "raw",
   "id": "cf45c2c6",
   "metadata": {},
   "source": [
    "canny = cv.Canny(img,40,200)"
   ]
  },
  {
   "cell_type": "markdown",
   "id": "ffccf7f6",
   "metadata": {},
   "source": [
    "# Display"
   ]
  },
  {
   "cell_type": "raw",
   "id": "3d523b33",
   "metadata": {},
   "source": [
    "cv.imshow(\"Original\",img)\n",
    "cv.imshow(\"Canny_Edge\",canny)\n",
    "cv.waitKey(0)\n",
    "cv.destroyAllWindows()"
   ]
  },
  {
   "cell_type": "markdown",
   "id": "71bff580",
   "metadata": {},
   "source": [
    "# Frame Capture"
   ]
  },
  {
   "cell_type": "code",
   "execution_count": null,
   "id": "02b6e0d2",
   "metadata": {},
   "outputs": [],
   "source": [
    "cap = cv.VideoCapture('sample.mp4')"
   ]
  },
  {
   "cell_type": "code",
   "execution_count": null,
   "id": "a7815112",
   "metadata": {},
   "outputs": [],
   "source": [
    "cap.isOpened()"
   ]
  },
  {
   "cell_type": "markdown",
   "id": "85cdfac9",
   "metadata": {},
   "source": [
    "# Capturing Work loop"
   ]
  },
  {
   "cell_type": "code",
   "execution_count": null,
   "id": "86beaf71",
   "metadata": {},
   "outputs": [],
   "source": [
    "while cap.isOpened():\n",
    "    ret, frame = cap.read()\n",
    "    \n",
    "    gray = cv.cvtColor(frame, cv.COLOR_BGR2GRAY)\n",
    "    \n",
    "    cv.imshow('Original',frame)\n",
    "    \n",
    "    edges = cv.Canny(frame,100,200)\n",
    "    \n",
    "    cv.imshow('Edges',edges)\n",
    "    if cv.waitKey(5) & 0xFF == ord('q'):\n",
    "        break\n",
    "\n",
    "cap.release()\n",
    "cv.destroyAllWindows()"
   ]
  },
  {
   "cell_type": "code",
   "execution_count": null,
   "id": "9b38de1c",
   "metadata": {},
   "outputs": [],
   "source": []
  }
 ],
 "metadata": {
  "kernelspec": {
   "display_name": "Python 3 (ipykernel)",
   "language": "python",
   "name": "python3"
  },
  "language_info": {
   "codemirror_mode": {
    "name": "ipython",
    "version": 3
   },
   "file_extension": ".py",
   "mimetype": "text/x-python",
   "name": "python",
   "nbconvert_exporter": "python",
   "pygments_lexer": "ipython3",
   "version": "3.9.7"
  }
 },
 "nbformat": 4,
 "nbformat_minor": 5
}

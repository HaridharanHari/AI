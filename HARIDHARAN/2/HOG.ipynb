{
 "cells": [
  {
   "cell_type": "markdown",
   "id": "beb50872",
   "metadata": {},
   "source": [
    "# Install imutils"
   ]
  },
  {
   "cell_type": "raw",
   "id": "dd58ea90",
   "metadata": {},
   "source": [
    "pip install imutils"
   ]
  },
  {
   "cell_type": "code",
   "execution_count": 1,
   "id": "eb8a7b0f",
   "metadata": {},
   "outputs": [],
   "source": [
    "import cv2 as cv\n",
    "import imutils as tils"
   ]
  },
  {
   "cell_type": "code",
   "execution_count": 2,
   "id": "90ff5795",
   "metadata": {},
   "outputs": [],
   "source": [
    "img = cv.imread(\"group.jfif\")"
   ]
  },
  {
   "cell_type": "code",
   "execution_count": 3,
   "id": "99297208",
   "metadata": {
    "scrolled": true
   },
   "outputs": [
    {
     "data": {
      "text/plain": [
       "(224, 336, 3)"
      ]
     },
     "execution_count": 3,
     "metadata": {},
     "output_type": "execute_result"
    }
   ],
   "source": [
    "img.shape"
   ]
  },
  {
   "cell_type": "code",
   "execution_count": 4,
   "id": "33129204",
   "metadata": {},
   "outputs": [
    {
     "data": {
      "text/plain": [
       "(224, 336, 3)"
      ]
     },
     "execution_count": 4,
     "metadata": {},
     "output_type": "execute_result"
    }
   ],
   "source": [
    "# Resizing the image\n",
    "img = tils.resize(img,width=min(400,img.shape[1]))\n",
    "img.shape"
   ]
  },
  {
   "cell_type": "markdown",
   "id": "074db891",
   "metadata": {},
   "source": [
    "# Initializing the HOG person detector"
   ]
  },
  {
   "cell_type": "code",
   "execution_count": 5,
   "id": "bd98bb50",
   "metadata": {},
   "outputs": [],
   "source": [
    "hog = cv.HOGDescriptor()"
   ]
  },
  {
   "cell_type": "code",
   "execution_count": 6,
   "id": "6ef494fa",
   "metadata": {},
   "outputs": [],
   "source": [
    "hog.setSVMDetector(cv.HOGDescriptor_getDefaultPeopleDetector())"
   ]
  },
  {
   "cell_type": "code",
   "execution_count": 7,
   "id": "648ba5f3",
   "metadata": {},
   "outputs": [
    {
     "data": {
      "text/plain": [
       "< cv2.HOGDescriptor 0000024EDCDAD130>"
      ]
     },
     "execution_count": 7,
     "metadata": {},
     "output_type": "execute_result"
    }
   ],
   "source": [
    "hog"
   ]
  },
  {
   "cell_type": "markdown",
   "id": "c6f9ab62",
   "metadata": {},
   "source": [
    "# Detecting all the regions in the image that has a pedestrians inside it"
   ]
  },
  {
   "cell_type": "code",
   "execution_count": 8,
   "id": "13f182bf",
   "metadata": {},
   "outputs": [
    {
     "data": {
      "text/plain": [
       "array([[251,   4,  78, 155],\n",
       "       [190,   0, 102, 203],\n",
       "       [284,  36,  52, 188],\n",
       "       [  0,  59,  46, 165],\n",
       "       [299,   1,  37, 146],\n",
       "       [109,  10,  78, 155],\n",
       "       [  0,  20,  42, 162],\n",
       "       [205,   6,  71, 143],\n",
       "       [ 63,  14,  74, 148],\n",
       "       [ 20,  22,  70, 139],\n",
       "       [245, 105,  65, 119]])"
      ]
     },
     "execution_count": 8,
     "metadata": {},
     "output_type": "execute_result"
    }
   ],
   "source": [
    "(regions,img) = hog.detectMultiScale(img,\n",
    "                                    winStride=(1,1),\n",
    "                                    padding=(40,40),\n",
    "                                    scale=1.05)\n",
    "regions"
   ]
  },
  {
   "cell_type": "markdown",
   "id": "a2cedf32",
   "metadata": {},
   "source": [
    "# Draw the regions in the Image"
   ]
  },
  {
   "cell_type": "code",
   "execution_count": 9,
   "id": "eeac5bae",
   "metadata": {},
   "outputs": [],
   "source": [
    "for (x,y,w,h) in regions:\n",
    "    cv.rectangle(img,(x,y), (x + w , y + h), (0, 255, 0), 3)"
   ]
  },
  {
   "cell_type": "markdown",
   "id": "7a414b8c",
   "metadata": {},
   "source": [
    "# Showing the output Image"
   ]
  },
  {
   "cell_type": "code",
   "execution_count": 10,
   "id": "9d9fac2d",
   "metadata": {},
   "outputs": [],
   "source": [
    "cv.imshow(\"Image\",img)\n",
    "cv.waitKey(0)\n",
    "cv.destroyAllWindows()"
   ]
  },
  {
   "cell_type": "code",
   "execution_count": null,
   "id": "1f577b5b",
   "metadata": {},
   "outputs": [],
   "source": []
  }
 ],
 "metadata": {
  "kernelspec": {
   "display_name": "Python 3 (ipykernel)",
   "language": "python",
   "name": "python3"
  },
  "language_info": {
   "codemirror_mode": {
    "name": "ipython",
    "version": 3
   },
   "file_extension": ".py",
   "mimetype": "text/x-python",
   "name": "python",
   "nbconvert_exporter": "python",
   "pygments_lexer": "ipython3",
   "version": "3.9.7"
  }
 },
 "nbformat": 4,
 "nbformat_minor": 5
}

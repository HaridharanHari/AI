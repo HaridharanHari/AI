{
 "cells": [
  {
   "cell_type": "code",
   "execution_count": 1,
   "id": "b0963f43",
   "metadata": {},
   "outputs": [],
   "source": [
    "import cv2 \n",
    "import matplotlib.pyplot as plt\n",
    "import numpy as np"
   ]
  },
  {
   "cell_type": "code",
   "execution_count": 2,
   "id": "808b20df",
   "metadata": {},
   "outputs": [],
   "source": [
    "im1=cv2.imread(\"vijay.jfif\")\n",
    "im2=cv2.imread(\"surya.jfif\")"
   ]
  },
  {
   "cell_type": "code",
   "execution_count": null,
   "id": "fc966422",
   "metadata": {},
   "outputs": [],
   "source": [
    "im1"
   ]
  },
  {
   "cell_type": "code",
   "execution_count": null,
   "id": "af97a2db",
   "metadata": {},
   "outputs": [],
   "source": [
    "im2"
   ]
  },
  {
   "cell_type": "code",
   "execution_count": 3,
   "id": "7853a2e1",
   "metadata": {},
   "outputs": [],
   "source": [
    "sh1=im1.shape\n",
    "sh2=im2.shape"
   ]
  },
  {
   "cell_type": "code",
   "execution_count": 4,
   "id": "2519ead3",
   "metadata": {},
   "outputs": [
    {
     "name": "stdout",
     "output_type": "stream",
     "text": [
      "(268, 184, 3)\n",
      "(276, 184, 3)\n"
     ]
    }
   ],
   "source": [
    "print(sh1)\n",
    "print(sh2)"
   ]
  },
  {
   "cell_type": "code",
   "execution_count": 5,
   "id": "4c84768d",
   "metadata": {},
   "outputs": [],
   "source": [
    "cv2.imshow(\"img1\",im1)\n",
    "cv2.imshow(\"img2\",im2)\n",
    "cv2.waitKey(0)\n",
    "cv2.destroyAllWindows()"
   ]
  },
  {
   "cell_type": "code",
   "execution_count": 6,
   "id": "f09f8d1b",
   "metadata": {},
   "outputs": [],
   "source": [
    "rs1=cv2.resize(im1,(250,250))\n",
    "rs2=cv2.resize(im2,(250,250))"
   ]
  },
  {
   "cell_type": "code",
   "execution_count": 7,
   "id": "c4700fbe",
   "metadata": {},
   "outputs": [],
   "source": [
    "rsp1=rs1.shape\n",
    "rsp2=rs2.shape"
   ]
  },
  {
   "cell_type": "code",
   "execution_count": 8,
   "id": "a9d9b7e0",
   "metadata": {},
   "outputs": [
    {
     "name": "stdout",
     "output_type": "stream",
     "text": [
      "(250, 250, 3)\n",
      "(250, 250, 3)\n"
     ]
    }
   ],
   "source": [
    "print(rsp1)\n",
    "print(rsp2)"
   ]
  },
  {
   "cell_type": "code",
   "execution_count": 9,
   "id": "727e4b1e",
   "metadata": {},
   "outputs": [],
   "source": [
    "blend=cv2.addWeighted(rs1,0.5,rs2,0.5,0)"
   ]
  },
  {
   "cell_type": "code",
   "execution_count": 10,
   "id": "2e69073a",
   "metadata": {},
   "outputs": [],
   "source": [
    "cv2.imshow(\"blend\",blend)\n",
    "cv2.imshow(\"img1\",rs1)\n",
    "cv2.imshow(\"img2\",rs2)\n",
    "cv2.waitKey(0)\n",
    "cv2.destroyAllWindows()"
   ]
  },
  {
   "cell_type": "code",
   "execution_count": null,
   "id": "409230e8",
   "metadata": {},
   "outputs": [],
   "source": []
  }
 ],
 "metadata": {
  "kernelspec": {
   "display_name": "Python 3 (ipykernel)",
   "language": "python",
   "name": "python3"
  },
  "language_info": {
   "codemirror_mode": {
    "name": "ipython",
    "version": 3
   },
   "file_extension": ".py",
   "mimetype": "text/x-python",
   "name": "python",
   "nbconvert_exporter": "python",
   "pygments_lexer": "ipython3",
   "version": "3.9.7"
  }
 },
 "nbformat": 4,
 "nbformat_minor": 5
}
